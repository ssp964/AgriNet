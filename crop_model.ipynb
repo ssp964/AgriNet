{
 "cells": [
  {
   "cell_type": "markdown",
   "id": "fca10821",
   "metadata": {},
   "source": [
    "## Project: Designing a Neural Network-Based Decision Support System for Optimal Crop Cultivation\n",
    "\n",
    "Team Members:<br>\n",
    "Suprit Shivshanthkumar Patil (G37575767)<br>\n",
    "Omkar Balekundri (G41085894)<br>\n",
    "Yash Manish Bobde (G20377188)<br>"
   ]
  },
  {
   "cell_type": "code",
   "execution_count": null,
   "id": "39ea8f34",
   "metadata": {},
   "outputs": [],
   "source": [
    "#Command to install packages from requirements.txt\n",
    "%pip install -r requirements.txt "
   ]
  },
  {
   "cell_type": "code",
   "execution_count": 2,
   "id": "4f5dcdf1",
   "metadata": {},
   "outputs": [],
   "source": [
    "import numpy as np\n",
    "import pandas as pd\n",
    "import matplotlib.pyplot as plt\n",
    "\n",
    "import tensorflow as tf\n",
    "from tensorflow.keras.layers import Input, Dense, LSTM, Dropout, BatchNormalization, Conv1D, Flatten\n",
    "from tensorflow.keras.models import Model\n",
    "from tensorflow.keras.optimizers import Adam\n",
    "from tensorflow.keras.callbacks import EarlyStopping\n",
    "\n",
    "from sklearn.preprocessing import LabelEncoder\n",
    "from sklearn.model_selection import train_test_split"
   ]
  },
  {
   "cell_type": "code",
   "execution_count": 3,
   "id": "819ecf8b",
   "metadata": {},
   "outputs": [],
   "source": [
    "data = pd.read_csv('./dataset.csv')  \n",
    "le_period = LabelEncoder()\n",
    "le_label = LabelEncoder()"
   ]
  },
  {
   "cell_type": "code",
   "execution_count": 3,
   "id": "04d9196e",
   "metadata": {},
   "outputs": [
    {
     "name": "stdout",
     "output_type": "stream",
     "text": [
      "Index(['Year', 'Period', 'price_cwt', 'N', 'P', 'K', 'temperature', 'humidity',\n",
      "       'ph', 'rainfall', 'label'],\n",
      "      dtype='object')\n"
     ]
    }
   ],
   "source": [
    "column_names = data.columns\n",
    "print(column_names)"
   ]
  },
  {
   "cell_type": "code",
   "execution_count": 4,
   "id": "df24ff6c",
   "metadata": {},
   "outputs": [
    {
     "data": {
      "text/html": [
       "<div>\n",
       "<style scoped>\n",
       "    .dataframe tbody tr th:only-of-type {\n",
       "        vertical-align: middle;\n",
       "    }\n",
       "\n",
       "    .dataframe tbody tr th {\n",
       "        vertical-align: top;\n",
       "    }\n",
       "\n",
       "    .dataframe thead th {\n",
       "        text-align: right;\n",
       "    }\n",
       "</style>\n",
       "<table border=\"1\" class=\"dataframe\">\n",
       "  <thead>\n",
       "    <tr style=\"text-align: right;\">\n",
       "      <th></th>\n",
       "      <th>Year</th>\n",
       "      <th>Period</th>\n",
       "      <th>price_cwt</th>\n",
       "      <th>N</th>\n",
       "      <th>P</th>\n",
       "      <th>K</th>\n",
       "      <th>temperature</th>\n",
       "      <th>humidity</th>\n",
       "      <th>ph</th>\n",
       "      <th>rainfall</th>\n",
       "      <th>label</th>\n",
       "    </tr>\n",
       "  </thead>\n",
       "  <tbody>\n",
       "    <tr>\n",
       "      <th>0</th>\n",
       "      <td>2014</td>\n",
       "      <td>JAN</td>\n",
       "      <td>21.5</td>\n",
       "      <td>40</td>\n",
       "      <td>72</td>\n",
       "      <td>77</td>\n",
       "      <td>17.0</td>\n",
       "      <td>17.0</td>\n",
       "      <td>7.5</td>\n",
       "      <td>88.6</td>\n",
       "      <td>Soyabeans</td>\n",
       "    </tr>\n",
       "    <tr>\n",
       "      <th>1</th>\n",
       "      <td>2014</td>\n",
       "      <td>JAN</td>\n",
       "      <td>21.5</td>\n",
       "      <td>23</td>\n",
       "      <td>72</td>\n",
       "      <td>84</td>\n",
       "      <td>19.0</td>\n",
       "      <td>17.1</td>\n",
       "      <td>6.9</td>\n",
       "      <td>79.9</td>\n",
       "      <td>Soyabeans</td>\n",
       "    </tr>\n",
       "    <tr>\n",
       "      <th>2</th>\n",
       "      <td>2014</td>\n",
       "      <td>JAN</td>\n",
       "      <td>21.5</td>\n",
       "      <td>39</td>\n",
       "      <td>58</td>\n",
       "      <td>85</td>\n",
       "      <td>17.9</td>\n",
       "      <td>15.4</td>\n",
       "      <td>6.0</td>\n",
       "      <td>68.5</td>\n",
       "      <td>Soyabeans</td>\n",
       "    </tr>\n",
       "    <tr>\n",
       "      <th>3</th>\n",
       "      <td>2014</td>\n",
       "      <td>JAN</td>\n",
       "      <td>21.5</td>\n",
       "      <td>22</td>\n",
       "      <td>72</td>\n",
       "      <td>85</td>\n",
       "      <td>18.9</td>\n",
       "      <td>15.7</td>\n",
       "      <td>6.4</td>\n",
       "      <td>88.5</td>\n",
       "      <td>Soyabeans</td>\n",
       "    </tr>\n",
       "    <tr>\n",
       "      <th>4</th>\n",
       "      <td>2014</td>\n",
       "      <td>JAN</td>\n",
       "      <td>21.5</td>\n",
       "      <td>36</td>\n",
       "      <td>67</td>\n",
       "      <td>77</td>\n",
       "      <td>18.4</td>\n",
       "      <td>19.6</td>\n",
       "      <td>7.2</td>\n",
       "      <td>79.3</td>\n",
       "      <td>Soyabeans</td>\n",
       "    </tr>\n",
       "  </tbody>\n",
       "</table>\n",
       "</div>"
      ],
      "text/plain": [
       "   Year Period  price_cwt   N   P   K  temperature  humidity   ph  rainfall  \\\n",
       "0  2014    JAN       21.5  40  72  77         17.0      17.0  7.5      88.6   \n",
       "1  2014    JAN       21.5  23  72  84         19.0      17.1  6.9      79.9   \n",
       "2  2014    JAN       21.5  39  58  85         17.9      15.4  6.0      68.5   \n",
       "3  2014    JAN       21.5  22  72  85         18.9      15.7  6.4      88.5   \n",
       "4  2014    JAN       21.5  36  67  77         18.4      19.6  7.2      79.3   \n",
       "\n",
       "       label  \n",
       "0  Soyabeans  \n",
       "1  Soyabeans  \n",
       "2  Soyabeans  \n",
       "3  Soyabeans  \n",
       "4  Soyabeans  "
      ]
     },
     "execution_count": 4,
     "metadata": {},
     "output_type": "execute_result"
    }
   ],
   "source": [
    "data.head()"
   ]
  },
  {
   "cell_type": "markdown",
   "id": "2ae7e81e",
   "metadata": {},
   "source": [
    "## Splitting data into traning, validation and test sets\n",
    "\n",
    "Categorial lables are encoded using LabelEncoder. The dataset is split into features (X) and labels (y). Train-test split is performed twice to create training, validation, and testing sets. The input features are reshaped to suit the RNN model format."
   ]
  },
  {
   "cell_type": "code",
   "execution_count": 5,
   "id": "9c184ada",
   "metadata": {},
   "outputs": [],
   "source": [
    "le_label.fit(data['label'])\n",
    "\n",
    "data['Period'] = le_period.fit_transform(data['Period'])\n",
    "data['label'] = le_label.transform(data['label'])\n",
    "\n",
    "X = data[['Year', 'Period', 'price_cwt', 'N', 'P', 'K', 'temperature', 'humidity', 'ph', 'rainfall']]\n",
    "y = data['label']\n",
    "\n",
    "X_train_raw, X_test_raw, y_train, y_test = train_test_split(X, y, test_size=0.2, random_state=42, stratify=y)\n",
    "X_train_raw, X_val_raw, y_train, y_val = train_test_split(X_train_raw, y_train, test_size=0.2, random_state=42, stratify=y_train)\n",
    "\n",
    "X_train = X_train_raw[['Year', 'Period', 'N', 'P', 'K', 'temperature', 'humidity', 'ph', 'rainfall']]\n",
    "X_test = X_test_raw[['Year', 'Period', 'N', 'P', 'K', 'temperature', 'humidity', 'ph', 'rainfall']]\n",
    "X_val = X_val_raw[['Year', 'Period', 'N', 'P', 'K', 'temperature', 'humidity', 'ph', 'rainfall']]\n",
    "\n",
    "X_train = np.reshape(X_train.values, (X_train.shape[0], X_train.shape[1], 1))\n",
    "X_val = np.reshape(X_val.values, (X_val.shape[0], X_val.shape[1], 1))\n",
    "X_test = np.reshape(X_test.values, (X_test.shape[0], X_test.shape[1], 1))\n",
    "\n",
    "y_train_cwt = X_train_raw['price_cwt']\n",
    "y_test_cwt = X_test_raw['price_cwt']\n",
    "y_val_cwt = X_val_raw['price_cwt']"
   ]
  },
  {
   "cell_type": "markdown",
   "id": "337a7b64",
   "metadata": {},
   "source": [
    "## Preparing data for RNN\n",
    "\n",
    "Padding is used for input sequences with zeros to ensure uniform length and creates TensorFlow datasets for training, testing, and validation.  "
   ]
  },
  {
   "cell_type": "code",
   "execution_count": 6,
   "id": "925f1540",
   "metadata": {},
   "outputs": [],
   "source": [
    "sequence_length = 12\n",
    "\n",
    "X_train_padded = np.pad(X_train, ((0, sequence_length), (0, 0), (0, 0)), mode='constant', constant_values=0)\n",
    "X_test_padded = np.pad(X_test, ((0, sequence_length), (0, 0), (0, 0)), mode='constant', constant_values=0)\n",
    "X_val_padded = np.pad(X_val, ((0, sequence_length), (0, 0), (0, 0)), mode='constant', constant_values=0)\n",
    "\n",
    "train_dataset_rnn = tf.keras.preprocessing.timeseries_dataset_from_array(\n",
    "    data=X_train_padded,\n",
    "    targets=y_train_cwt,\n",
    "    sequence_length=sequence_length,\n",
    "    batch_size=16,\n",
    "    shuffle=True\n",
    ")\n",
    "\n",
    "test_dataset_rnn = tf.keras.preprocessing.timeseries_dataset_from_array(\n",
    "    data=X_test_padded,\n",
    "    targets=y_test_cwt,\n",
    "    sequence_length=sequence_length,\n",
    "    batch_size=16,\n",
    "    shuffle=True\n",
    ")\n",
    "\n",
    "val_dataset_rnn = tf.keras.preprocessing.timeseries_dataset_from_array(\n",
    "    data=X_val_padded,\n",
    "    targets=y_val_cwt,\n",
    "    sequence_length=sequence_length,\n",
    "    batch_size=16,\n",
    "    shuffle=True\n",
    ")"
   ]
  },
  {
   "cell_type": "code",
   "execution_count": 7,
   "id": "29107b28",
   "metadata": {},
   "outputs": [
    {
     "data": {
      "text/plain": [
       "(29029, 9, 1)"
      ]
     },
     "execution_count": 7,
     "metadata": {},
     "output_type": "execute_result"
    }
   ],
   "source": [
    "X_train.shape"
   ]
  },
  {
   "cell_type": "code",
   "execution_count": 8,
   "id": "f4654562",
   "metadata": {},
   "outputs": [
    {
     "name": "stdout",
     "output_type": "stream",
     "text": [
      "Shape of features (X) in train_dataset: (16, 12, 9, 1)\n",
      "Shape of labels (Y) in train_dataset: (16,)\n",
      "Shape of features (X) in test_dataset: (16, 12, 9, 1)\n",
      "Shape of labels (Y) in test_dataset: (16,)\n"
     ]
    }
   ],
   "source": [
    "for x, y in train_dataset_rnn.take(1):\n",
    "    print(\"Shape of features (X) in train_dataset:\", x.shape)\n",
    "    print(\"Shape of labels (Y) in train_dataset:\", y.shape)\n",
    "\n",
    "for x, y in test_dataset_rnn.take(1):\n",
    "    print(\"Shape of features (X) in test_dataset:\", x.shape)\n",
    "    print(\"Shape of labels (Y) in test_dataset:\", y.shape)"
   ]
  },
  {
   "cell_type": "markdown",
   "id": "c09f44e7",
   "metadata": {},
   "source": [
    "## RNN model"
   ]
  },
  {
   "cell_type": "code",
   "execution_count": 9,
   "id": "ca8ba41d",
   "metadata": {},
   "outputs": [],
   "source": [
    "rnn_input = Input(shape=(sequence_length, X_train.shape[1]), name='rnn_input')  \n",
    "x1 = LSTM(80, return_sequences=True)(rnn_input)\n",
    "x1 = Dropout(0.2)(x1)\n",
    "x1 = LSTM(80)(x1)\n",
    "value_per_cwt_pred = Dense(1, activation='linear', name='value_per_cwt_pred')(x1)\n"
   ]
  },
  {
   "cell_type": "code",
   "execution_count": 10,
   "id": "bb0037aa",
   "metadata": {},
   "outputs": [
    {
     "name": "stderr",
     "output_type": "stream",
     "text": [
      "WARNING:absl:At this time, the v2.11+ optimizer `tf.keras.optimizers.Adam` runs slowly on M1/M2 Macs, please use the legacy Keras optimizer instead, located at `tf.keras.optimizers.legacy.Adam`.\n"
     ]
    },
    {
     "name": "stdout",
     "output_type": "stream",
     "text": [
      "Epoch 1/15\n",
      "1815/1815 [==============================] - 11s 5ms/step - loss: 101.8931 - mse: 101.8931 - val_loss: 57.9815 - val_mse: 57.9815\n",
      "Epoch 2/15\n",
      "1815/1815 [==============================] - 11s 6ms/step - loss: 53.7776 - mse: 53.7776 - val_loss: 51.1295 - val_mse: 51.1295\n",
      "Epoch 3/15\n",
      "1815/1815 [==============================] - 12s 6ms/step - loss: 51.8958 - mse: 51.8958 - val_loss: 51.0081 - val_mse: 51.0081\n",
      "Epoch 4/15\n",
      "1815/1815 [==============================] - 10s 6ms/step - loss: 51.7726 - mse: 51.7726 - val_loss: 50.3481 - val_mse: 50.3481\n",
      "Epoch 5/15\n",
      "1815/1815 [==============================] - 10s 6ms/step - loss: 44.7833 - mse: 44.7833 - val_loss: 31.3657 - val_mse: 31.3657\n",
      "Epoch 6/15\n",
      "1815/1815 [==============================] - 10s 5ms/step - loss: 33.1580 - mse: 33.1580 - val_loss: 23.2706 - val_mse: 23.2706\n",
      "Epoch 7/15\n",
      "1815/1815 [==============================] - 10s 5ms/step - loss: 27.9714 - mse: 27.9714 - val_loss: 19.7995 - val_mse: 19.7995\n",
      "Epoch 8/15\n",
      "1815/1815 [==============================] - 11s 6ms/step - loss: 24.4484 - mse: 24.4484 - val_loss: 16.8238 - val_mse: 16.8238\n",
      "Epoch 9/15\n",
      "1815/1815 [==============================] - 10s 6ms/step - loss: 21.2102 - mse: 21.2102 - val_loss: 14.5661 - val_mse: 14.5661\n",
      "Epoch 10/15\n",
      "1815/1815 [==============================] - 11s 6ms/step - loss: 18.3343 - mse: 18.3343 - val_loss: 11.9357 - val_mse: 11.9357\n",
      "Epoch 11/15\n",
      "1815/1815 [==============================] - 10s 6ms/step - loss: 16.4854 - mse: 16.4854 - val_loss: 10.8519 - val_mse: 10.8519\n",
      "Epoch 12/15\n",
      "1815/1815 [==============================] - 10s 5ms/step - loss: 15.1308 - mse: 15.1308 - val_loss: 10.0185 - val_mse: 10.0185\n",
      "Epoch 13/15\n",
      "1815/1815 [==============================] - 10s 6ms/step - loss: 13.9630 - mse: 13.9630 - val_loss: 9.7368 - val_mse: 9.7368\n",
      "Epoch 14/15\n",
      "1815/1815 [==============================] - 10s 5ms/step - loss: 13.1034 - mse: 13.1034 - val_loss: 9.2627 - val_mse: 9.2627\n",
      "Epoch 15/15\n",
      "1815/1815 [==============================] - 12s 7ms/step - loss: 12.3329 - mse: 12.3329 - val_loss: 8.9666 - val_mse: 8.9666\n"
     ]
    }
   ],
   "source": [
    "lr_rnn = 0.00001\n",
    "opt_rnn = Adam(learning_rate=lr_rnn)\n",
    "rnn_model = Model(rnn_input, value_per_cwt_pred)\n",
    "rnn_model.compile(optimizer=opt_rnn, loss='mse', metrics=['mse'])  \n",
    "\n",
    "early_stopping = EarlyStopping(monitor='val_loss', patience=3)\n",
    "rnn_history = rnn_model.fit(\n",
    "    train_dataset_rnn,\n",
    "    validation_data=val_dataset_rnn,\n",
    "    epochs=15,\n",
    "    callbacks=[early_stopping]\n",
    ")"
   ]
  },
  {
   "cell_type": "markdown",
   "id": "5263b2ac",
   "metadata": {},
   "source": [
    "## Plotting the training loss and accuracy of the RNN model"
   ]
  },
  {
   "cell_type": "code",
   "execution_count": 11,
   "id": "87c6eeb9",
   "metadata": {},
   "outputs": [
    {
     "data": {
      "image/png": "[encoded data removed]",
      "text/plain": [
       "<Figure size 640x480 with 1 Axes>"
      ]
     },
     "metadata": {},
     "output_type": "display_data"
    },
    {
     "data": {
      "image/png": "[encoded data removed]",
      "text/plain": [
       "<Figure size 640x480 with 1 Axes>"
      ]
     },
     "metadata": {},
     "output_type": "display_data"
    }
   ],
   "source": [
    "plt.plot(rnn_history.history['loss'], label='Training Loss')\n",
    "plt.plot(rnn_history.history['val_loss'], label='Validation Loss')\n",
    "plt.title('Training and Validation Loss')\n",
    "plt.xlabel('Epoch')\n",
    "plt.ylabel('Loss')\n",
    "plt.legend()\n",
    "plt.show()\n",
    "\n",
    "train_mse = rnn_history.history['mse']\n",
    "val_mse = rnn_history.history['val_mse']\n",
    "\n",
    "plt.plot(train_mse, label='Training MSE')\n",
    "plt.plot(val_mse, label='Validation MSE')\n",
    "plt.title('Training and Validation MSE')\n",
    "plt.xlabel('Epoch')\n",
    "plt.ylabel('MSE')\n",
    "plt.legend()\n",
    "plt.show()"
   ]
  },
  {
   "cell_type": "code",
   "execution_count": 12,
   "id": "468d14da",
   "metadata": {},
   "outputs": [
    {
     "name": "stdout",
     "output_type": "stream",
     "text": [
      "567/567 [==============================] - 1s 2ms/step - loss: 9.3951 - mse: 9.3951\n",
      "\n",
      "Test Loss: 9.395096778869629\n",
      "Test mse: 9.395096778869629\n"
     ]
    }
   ],
   "source": [
    "test_loss, mse = rnn_model.evaluate(test_dataset_rnn)\n",
    "print(\"\\nTest Loss:\", test_loss)\n",
    "print(\"Test mse:\", mse)"
   ]
  },
  {
   "cell_type": "markdown",
   "id": "479f3d55",
   "metadata": {},
   "source": [
    "## Shaping data and combining for CNN input\n",
    "\n",
    "Predictions using the trained RNN model, then the dimensions of the predictions is expanded. Further the expanded predictions is merged with the training, validation and test datasets for the CNN input."
   ]
  },
  {
   "cell_type": "code",
   "execution_count": 13,
   "id": "7864ebbb",
   "metadata": {},
   "outputs": [
    {
     "name": "stdout",
     "output_type": "stream",
     "text": [
      "1815/1815 [==============================] - 3s 2ms/step\n",
      "454/454 [==============================] - 1s 2ms/step\n",
      "567/567 [==============================] - 1s 2ms/step\n",
      "Shape of predicted_cwt_train: (29029, 1)\n",
      "Shape of predicted_cwt_val: (7258, 1)\n",
      "Shape of predicted_cwt_test: (9072, 1)\n",
      "\n",
      "Shape of X_train: (29029, 9, 1)\n",
      "Shape of predicted_cwt_train_expanded: (29029, 1, 1)\n",
      "\n",
      "Shape of X_test: (29029, 9, 1)\n",
      "Shape of predicted_cwt_test_expanded: (9072, 1, 1)\n",
      "\n",
      "Shape of X_train_augmented: (29029, 10, 1)\n",
      "Shape of X_val_augmented: (7258, 10, 1)\n",
      "Shape of X_test_augmented: (9072, 10, 1)\n"
     ]
    }
   ],
   "source": [
    "#Predicted values of price/CWT from trained RNN model that will used for CNN input.\n",
    "predicted_cwt_train = rnn_model.predict(train_dataset_rnn)\n",
    "predicted_cwt_val = rnn_model.predict(val_dataset_rnn)\n",
    "predicted_cwt_test = rnn_model.predict(test_dataset_rnn)\n",
    "\n",
    "print(\"Shape of predicted_cwt_train:\", predicted_cwt_train.shape)\n",
    "print(\"Shape of predicted_cwt_val:\", predicted_cwt_val.shape)\n",
    "print(\"Shape of predicted_cwt_test:\", predicted_cwt_test.shape)\n",
    "\n",
    "#Predicted values are expanded to match with the shape of X_train, X_val and X_test.\n",
    "predicted_cwt_train_expanded = np.expand_dims(predicted_cwt_train, axis=1)\n",
    "predicted_cwt_val_expanded = np.expand_dims(predicted_cwt_val, axis=1)\n",
    "predicted_cwt_test_expanded = np.expand_dims(predicted_cwt_test, axis=1)\n",
    "\n",
    "print(\"\\nShape of X_train:\", X_train.shape)\n",
    "print(\"Shape of predicted_cwt_train_expanded:\", predicted_cwt_train_expanded.shape)\n",
    "\n",
    "print(\"\\nShape of X_test:\", X_train.shape)\n",
    "print(\"Shape of predicted_cwt_test_expanded:\", predicted_cwt_test_expanded.shape)\n",
    "\n",
    "#The expanded predcited values is mergerd with X_train, X_val and X_test. \n",
    "X_train_augmented = np.concatenate([X_train, predicted_cwt_train_expanded], axis=1)\n",
    "X_val_augmented = np.concatenate([X_val, predicted_cwt_val_expanded], axis=1)\n",
    "X_test_augmented = np.concatenate([X_test, predicted_cwt_test_expanded], axis=1)\n",
    "\n",
    "print(\"\\nShape of X_train_augmented:\", X_train_augmented.shape)\n",
    "print(\"Shape of X_val_augmented:\", X_val_augmented.shape)\n",
    "print(\"Shape of X_test_augmented:\", X_test_augmented.shape)\n",
    "\n"
   ]
  },
  {
   "cell_type": "code",
   "execution_count": 14,
   "id": "60465131",
   "metadata": {},
   "outputs": [
    {
     "data": {
      "text/plain": [
       "29029"
      ]
     },
     "execution_count": 14,
     "metadata": {},
     "output_type": "execute_result"
    }
   ],
   "source": [
    "X_train_augmented.shape[0]"
   ]
  },
  {
   "cell_type": "markdown",
   "id": "0a531039",
   "metadata": {},
   "source": [
    "## CNN model\n",
    "\n",
    "The augmented values are then used as input values for the training of CNN model."
   ]
  },
  {
   "cell_type": "code",
   "execution_count": 15,
   "id": "45f04683",
   "metadata": {},
   "outputs": [],
   "source": [
    "cnn_input = Input(shape=(X_train_augmented.shape[1], X_train_augmented.shape[2]), name='cnn_input')\n",
    "x = Conv1D(16,3,activation='relu')(cnn_input)\n",
    "x = BatchNormalization()(x)  \n",
    "x = Dropout(0.3)(x)\n",
    "\n",
    "x = Conv1D(32,3,activation='relu')(cnn_input)\n",
    "x = BatchNormalization()(x)  \n",
    "x = Dropout(0.5)(x)\n",
    "x = Flatten()(x)\n",
    "\n",
    "x = Dense(32, activation='relu')(x)\n",
    "\n",
    "crop_prediction = Dense(len(np.unique(y_train)), activation='softmax', name='crop_prediction')(x)\n"
   ]
  },
  {
   "cell_type": "code",
   "execution_count": 16,
   "id": "baca1071",
   "metadata": {
    "scrolled": false
   },
   "outputs": [
    {
     "name": "stderr",
     "output_type": "stream",
     "text": [
      "WARNING:absl:At this time, the v2.11+ optimizer `tf.keras.optimizers.Adam` runs slowly on M1/M2 Macs, please use the legacy Keras optimizer instead, located at `tf.keras.optimizers.legacy.Adam`.\n"
     ]
    },
    {
     "name": "stdout",
     "output_type": "stream",
     "text": [
      "Epoch 1/15\n",
      "908/908 [==============================] - 1s 834us/step - loss: 1.8776 - accuracy: 0.2724 - val_loss: 1.2859 - val_accuracy: 0.4284\n",
      "Epoch 2/15\n",
      "908/908 [==============================] - 1s 783us/step - loss: 1.2478 - accuracy: 0.4465 - val_loss: 0.8095 - val_accuracy: 0.8993\n",
      "Epoch 3/15\n",
      "908/908 [==============================] - 1s 698us/step - loss: 0.7935 - accuracy: 0.7232 - val_loss: 0.4265 - val_accuracy: 0.9990\n",
      "Epoch 4/15\n",
      "908/908 [==============================] - 1s 633us/step - loss: 0.4833 - accuracy: 0.8875 - val_loss: 0.1945 - val_accuracy: 1.0000\n",
      "Epoch 5/15\n",
      "908/908 [==============================] - 1s 740us/step - loss: 0.2912 - accuracy: 0.9509 - val_loss: 0.0935 - val_accuracy: 1.0000\n",
      "Epoch 6/15\n",
      "908/908 [==============================] - 1s 637us/step - loss: 0.1832 - accuracy: 0.9767 - val_loss: 0.0509 - val_accuracy: 1.0000\n",
      "Epoch 7/15\n",
      "908/908 [==============================] - 1s 636us/step - loss: 0.1173 - accuracy: 0.9867 - val_loss: 0.0296 - val_accuracy: 1.0000\n",
      "Epoch 8/15\n",
      "908/908 [==============================] - 1s 726us/step - loss: 0.0798 - accuracy: 0.9926 - val_loss: 0.0187 - val_accuracy: 1.0000\n",
      "Epoch 9/15\n",
      "908/908 [==============================] - 1s 681us/step - loss: 0.0550 - accuracy: 0.9957 - val_loss: 0.0126 - val_accuracy: 1.0000\n",
      "Epoch 10/15\n",
      "908/908 [==============================] - 1s 644us/step - loss: 0.0393 - accuracy: 0.9966 - val_loss: 0.0084 - val_accuracy: 1.0000\n",
      "Epoch 11/15\n",
      "908/908 [==============================] - 1s 648us/step - loss: 0.0286 - accuracy: 0.9977 - val_loss: 0.0059 - val_accuracy: 1.0000\n",
      "Epoch 12/15\n",
      "908/908 [==============================] - 1s 630us/step - loss: 0.0217 - accuracy: 0.9982 - val_loss: 0.0042 - val_accuracy: 1.0000\n",
      "Epoch 13/15\n",
      "908/908 [==============================] - 1s 659us/step - loss: 0.0169 - accuracy: 0.9986 - val_loss: 0.0030 - val_accuracy: 1.0000\n",
      "Epoch 14/15\n",
      "908/908 [==============================] - 1s 660us/step - loss: 0.0130 - accuracy: 0.9988 - val_loss: 0.0021 - val_accuracy: 1.0000\n",
      "Epoch 15/15\n",
      "908/908 [==============================] - 1s 684us/step - loss: 0.0099 - accuracy: 0.9990 - val_loss: 0.0016 - val_accuracy: 1.0000\n"
     ]
    }
   ],
   "source": [
    "lr_cnn = 0.00001\n",
    "cnn_model = Model(cnn_input, crop_prediction)\n",
    "opt_cnn = Adam(learning_rate=lr_cnn)\n",
    "cnn_model.compile(optimizer=opt_cnn, loss='sparse_categorical_crossentropy', metrics=['accuracy'])\n",
    "\n",
    "cnn_history = cnn_model.fit(\n",
    "    X_train_augmented, y_train,\n",
    "    validation_data=(X_val_augmented, y_val),  \n",
    "    epochs=15, batch_size=32,\n",
    "    callbacks=[early_stopping]\n",
    ")"
   ]
  },
  {
   "cell_type": "markdown",
   "id": "b2f66284",
   "metadata": {},
   "source": [
    "## Plotting the training loss and accuracy of the CNN model"
   ]
  },
  {
   "cell_type": "code",
   "execution_count": 17,
   "id": "aa9d6972",
   "metadata": {},
   "outputs": [
    {
     "data": {
      "image/png": "[encoded data removed]",
      "text/plain": [
       "<Figure size 1400x500 with 2 Axes>"
      ]
     },
     "metadata": {},
     "output_type": "display_data"
    }
   ],
   "source": [
    "plt.figure(figsize=(14, 5))\n",
    "\n",
    "plt.subplot(1, 2, 1)\n",
    "plt.plot(cnn_history.history['accuracy'])\n",
    "plt.plot(cnn_history.history['val_accuracy'])\n",
    "plt.title('Model Accuracy')\n",
    "plt.ylabel('Accuracy')\n",
    "plt.xlabel('Epoch')\n",
    "plt.legend(['Train', 'Validation'], loc='upper left')\n",
    "\n",
    "plt.subplot(1, 2, 2)\n",
    "plt.plot(cnn_history.history['loss'])\n",
    "plt.plot(cnn_history.history['val_loss'])\n",
    "plt.title('Model Loss')\n",
    "plt.ylabel('Loss')\n",
    "plt.xlabel('Epoch')\n",
    "plt.legend(['Train', 'Validation'], loc='upper left')\n",
    "\n",
    "plt.show()"
   ]
  },
  {
   "cell_type": "code",
   "execution_count": 18,
   "id": "3dfd1ba8",
   "metadata": {},
   "outputs": [
    {
     "name": "stdout",
     "output_type": "stream",
     "text": [
      "284/284 [==============================] - 0s 402us/step - loss: 0.0016 - accuracy: 1.0000\n",
      "\n",
      "Test Loss: 0.001612223801203072\n",
      "Test Accuracy: 1.0\n"
     ]
    }
   ],
   "source": [
    "test_loss_cnn, test_accuracy_cnn = cnn_model.evaluate(X_test_augmented, y_test)\n",
    "print(\"\\nTest Loss:\", test_loss_cnn)\n",
    "print(\"Test Accuracy:\", test_accuracy_cnn)"
   ]
  },
  {
   "cell_type": "markdown",
   "id": "5d961f03",
   "metadata": {},
   "source": [
    "## Single value Prediction\n",
    "\n",
    "The function predicts crop prices and classifies crops based on single sample data using trained RNN and CNN models. Similar to the data processing done during the training, here data is padded and sequences are created for RNN input. Further, the predictions are expanded and combined with the features of sample data for the CNN input."
   ]
  },
  {
   "cell_type": "code",
   "execution_count": 19,
   "id": "76daf791",
   "metadata": {},
   "outputs": [],
   "source": [
    "def pred_crop_price(sample_data, rnn_model, cnn_model, le_period, le_label, sequence_length=12):\n",
    "    \n",
    "    sample_df = pd.DataFrame([sample_data])\n",
    "    sample_df['Period'] = le_period.transform(sample_df['Period'])\n",
    "    \n",
    "    sample_padded = np.pad(sample_df.values, ((0, sequence_length - 1), (0, 0)), mode='constant', constant_values=0)\n",
    "    sample_sequence = np.reshape(sample_padded, (1, sequence_length, sample_df.shape[1]))\n",
    "    \n",
    "    rnn_prediction = rnn_model.predict(sample_sequence)\n",
    "    \n",
    "    rnn_pred_exp = np.expand_dims(rnn_prediction, axis=1)\n",
    "    sample_df_reshape = np.reshape(sample_df.values, (sample_df.shape[0], sample_df.shape[1], 1))\n",
    "    \n",
    "    cnn_ip_aug = np.concatenate([sample_df_reshape, rnn_pred_exp], axis=1)\n",
    "    cnn_prediction = cnn_model.predict(cnn_ip_aug)\n",
    "    \n",
    "    predicted_class = le_label.inverse_transform([np.argmax(cnn_prediction)])\n",
    "    predicted_price = rnn_prediction.flatten()[0]\n",
    "    \n",
    "    return predicted_price, predicted_class"
   ]
  },
  {
   "cell_type": "markdown",
   "id": "23c498ab",
   "metadata": {},
   "source": [
    "## Sample predition of original values \n",
    "Actual crop: Rice<br>\n",
    "Actual Price/CWT: 19.6"
   ]
  },
  {
   "cell_type": "code",
   "execution_count": 23,
   "id": "85f9d0a1",
   "metadata": {},
   "outputs": [
    {
     "name": "stdout",
     "output_type": "stream",
     "text": [
      "1/1 [==============================] - 0s 73ms/step\n",
      "1/1 [==============================] - 0s 15ms/step\n",
      "\n",
      "Predicted Price per CWT: 13.806007\n",
      "Predicted Class: ['rice']\n"
     ]
    }
   ],
   "source": [
    "sample_data = {\n",
    "    'Year': 2024,\n",
    "    'Period': 'JAN',\n",
    "    'N': 73,\n",
    "    'P': 57,\n",
    "    'K': 41,\n",
    "    'temperature': 21.4,\n",
    "    'humidity': 84.9,\n",
    "    'ph': 5.8,\n",
    "    'rainfall': 272.2,\n",
    "}\n",
    "\n",
    "predicted_price, predicted_class = pred_crop_price(sample_data, rnn_model, cnn_model, le_period, le_label)\n",
    "\n",
    "print(\"\\nPredicted Price per CWT:\", predicted_price)\n",
    "print(\"Predicted Class:\", predicted_class)"
   ]
  },
  {
   "attachments": {},
   "cell_type": "markdown",
   "id": "244b5a97",
   "metadata": {},
   "source": [
    "## Sample predition of original values \n",
    "Actual crop: Maize<br>\n",
    "Actual Price/CWT: 8.5"
   ]
  },
  {
   "cell_type": "code",
   "execution_count": 21,
   "id": "24325200",
   "metadata": {},
   "outputs": [
    {
     "name": "stdout",
     "output_type": "stream",
     "text": [
      "1/1 [==============================] - 0s 9ms/step\n",
      "1/1 [==============================] - 0s 8ms/step\n",
      "\n",
      "Predicted Price per CWT: 6.3022537\n",
      "Predicted Class: ['maize']\n"
     ]
    }
   ],
   "source": [
    "sample_data = {\n",
    "    'Year': 2024,\n",
    "    'Period': 'JAN',\n",
    "    'N': 71,\n",
    "    'P': 54,\n",
    "    'K': 16,\n",
    "    'temperature': 22.6,\n",
    "    'humidity': 63.7,\n",
    "    'ph': 5.7,\n",
    "    'rainfall': 87.8,\n",
    "}\n",
    "\n",
    "predicted_price, predicted_class = pred_crop_price(sample_data, rnn_model, cnn_model, le_period, le_label)\n",
    "\n",
    "print(\"\\nPredicted Price per CWT:\", predicted_price)\n",
    "print(\"Predicted Class:\", predicted_class)"
   ]
  },
  {
   "cell_type": "markdown",
   "id": "2554d37d",
   "metadata": {},
   "source": [
    "## Sample predition of original values \n",
    "Actual crop: Soyabeans<br>\n",
    "Actual Price/CWT: 21.3"
   ]
  },
  {
   "cell_type": "code",
   "execution_count": 22,
   "id": "b522daab",
   "metadata": {},
   "outputs": [
    {
     "name": "stdout",
     "output_type": "stream",
     "text": [
      "1/1 [==============================] - 0s 12ms/step\n",
      "1/1 [==============================] - 0s 8ms/step\n",
      "\n",
      "Predicted Price per CWT: 15.498697\n",
      "Predicted Class: ['Soyabeans']\n"
     ]
    }
   ],
   "source": [
    "sample_data = {\n",
    "    'Year': 2024,\n",
    "    'Period': 'JAN',\n",
    "    'N': 40,\n",
    "    'P': 72,\n",
    "    'K': 77,\n",
    "    'temperature': 17,\n",
    "    'humidity': 17,\n",
    "    'ph': 7.5,\n",
    "    'rainfall': 88.6,\n",
    "}\n",
    "\n",
    "predicted_price, predicted_class = pred_crop_price(sample_data, rnn_model, cnn_model, le_period, le_label)\n",
    "\n",
    "print(\"\\nPredicted Price per CWT:\", predicted_price)\n",
    "print(\"Predicted Class:\", predicted_class)"
   ]
  }
 ],
 "metadata": {
  "kernelspec": {
   "display_name": "Python 3 (ipykernel)",
   "language": "python",
   "name": "python3"
  },
  "language_info": {
   "codemirror_mode": {
    "name": "ipython",
    "version": 3
   },
   "file_extension": ".py",
   "mimetype": "text/x-python",
   "name": "python",
   "nbconvert_exporter": "python",
   "pygments_lexer": "ipython3",
   "version": "3.11.9"
  }
 },
 "nbformat": 4,
 "nbformat_minor": 5
}
